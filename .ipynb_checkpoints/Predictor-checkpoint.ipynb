{
 "cells": [
  {
   "cell_type": "code",
   "execution_count": null,
   "metadata": {},
   "outputs": [],
   "source": [
    "# Importando dependências\n",
    "\n",
    "import matplotlib.pyplot as plt\n",
    "import pandas as pd\n",
    "import numpy as np\n",
    "import statsmodels.api as sm\n",
    "from scipy import stats\n",
    "from sklearn.tree import DecisionTreeRegressor  \n",
    "import math\n",
    "import os\n",
    "! pip install patool\n",
    "import patoolib"
   ]
  },
  {
   "cell_type": "code",
   "execution_count": null,
   "metadata": {},
   "outputs": [],
   "source": [
    "# Descomprimindo arquivo .rar e lendo o dataset\n",
    "try:\n",
    "    patoolib.extract_archive(\"vehicles.rar\", outdir=os.getcwd())\n",
    "    os.remove(\"vehicles.rar\")\n",
    "except:\n",
    "    pass\n",
    "Dataset = pd.read_csv('vehicles.csv')\n",
    "Dataset = Dataset.iloc[28: , :]\n",
    "Dataset.head(10)"
   ]
  },
  {
   "cell_type": "markdown",
   "metadata": {},
   "source": [
    "# Quanto vale seu carro usado no Craigslist?\n",
    "\n",
    "### A partir da análise de Dataset como quilometragem, ano do modelo, estado de conservação, tipo de combustível, entre outros, pretendemos prever o preço de revenda de um carro na plataforma Craigslist.   "
   ]
  },
  {
   "cell_type": "code",
   "execution_count": null,
   "metadata": {},
   "outputs": [],
   "source": [
    "# Remoção de outliers: Removeremos todas as linhas que tenham um preço com Z score(Número de desvios padrão\n",
    "# de distância da média) maior ou igual a 3\n",
    "\n",
    "z_scores = stats.zscore(Dataset.price)\n",
    "abs_z = np.abs(z_scores)\n",
    "Dataset['sigma'] = abs_z\n",
    "\n",
    "Dataset = Dataset.loc[Dataset.sigma < 3,:]\n",
    "\n"
   ]
  },
  {
   "cell_type": "markdown",
   "metadata": {},
   "source": [
    "# Análise exploratória -- Preços\n",
    "\n",
    "Preço é a variável target do modelo. Assim, é de interesse analisar quais são os fatores fundamentais que influenciam em seu valor. Nesse sentido, através de gráficos de dispersão, histogramas e outras ferramentas estatísticas, determinaremos as features a serem consideradas."
   ]
  },
  {
   "cell_type": "code",
   "execution_count": null,
   "metadata": {},
   "outputs": [],
   "source": [
    "#Criando função que facilita a plotagem de vários\n",
    "\n",
    "def PlotVariosHist(bins, target, unidade_target, feature, feature_string, valores):\n",
    "    plt.figure(figsize=(20,30))\n",
    "    for valor in valores:\n",
    "        plt.subplot(321+valores.index(valor))\n",
    "        plt.hist(Dataset.loc[feature == valor][target], bins, edgecolor='white',density=True)\n",
    "        plt.title(\"Densidade da frequência de {} quando {} é {}\".format(target, feature_string, valor))\n",
    "        plt.xlabel(\"{}, em {}\".format(target, unidade_target))\n",
    "        plt.ylabel(\"Densidade\")\n",
    "    plt.show()"
   ]
  },
  {
   "cell_type": "code",
   "execution_count": null,
   "metadata": {},
   "outputs": [],
   "source": [
    "# Primeiramente, devemos decidir quais são as condições que o modelo assume. Imaginamos que venda de peças de carros\n",
    "# ou de carros com peças faltando são casos significativamente diferentes do que a de um carro convencional. \n",
    "\n",
    "print(Dataset.title_status.value_counts(normalize=True))\n",
    "\n",
    "# Para observar as diferenças:\n",
    "\n",
    "PlotVariosHist(np.linspace(0,8e+4,20), 'price', 'USD', Dataset.title_status, 'Title status', ['clean', 'rebuilt', 'salvage', 'lien', 'parts only', 'missing'])"
   ]
  },
  {
   "cell_type": "markdown",
   "metadata": {},
   "source": [
    "# Conclusão inicial:\n",
    "\n",
    "Percebe-se que os preços de peças, carros com peça faltando e em más condições destoam bastante do convencional por praticamente não serem vendidos à valores mais altos. Já no caso de carros \"com juros\" (car lien é a venda de um carro em parcelas, na qual o vendedor cobra juros por segurança, podendo recuperar o carro caso não seja pago), eles costumam ter valores maiores que carros convencionais. Para carros reconstruídos, eles não cotumam ser vendidos por preços muito baixos, mas tendem a ter preços menores que o convencional na maioria dos casosetting an array element with a sequence.\n",
    "\n",
    "A maioria dos carros convencionais são vendidos por preços abaixo de 20000 dólares e nota-se, portanto, que a densidade de veículos diminui com o aumento de preços."
   ]
  },
  {
   "cell_type": "code",
   "execution_count": null,
   "metadata": {},
   "outputs": [],
   "source": [
    "#Retirando preços excepcionais (nulos ou acima de 500000 dólares)\n",
    "Dataset = Dataset.loc[Dataset['price'] > 0]\n",
    "Dataset = Dataset.loc[Dataset['price'] < 0.5*(10**6)]\n",
    "\n",
    "# Histograma de preços \n",
    "\n",
    "# Valores de interesse para basear as faixas\n",
    "print(Dataset.price.describe())\n",
    "\n",
    "\n",
    "plt.hist(Dataset.price,bins=np.linspace(0,8e+4,20),edgecolor='white',density=True)\n",
    "plt.title('Histograma dos preços')\n",
    "plt.xlabel('Preços de venda')\n",
    "plt.ylabel('Densidade')\n",
    "plt.show()"
   ]
  },
  {
   "cell_type": "code",
   "execution_count": null,
   "metadata": {},
   "outputs": [],
   "source": [
    "# O gráfico se assemelha com uma exponencial, para verificar temos que: \n",
    "\n",
    "stats.probplot(Dataset.price,dist='expon',plot=plt)\n",
    "plt.show()"
   ]
  },
  {
   "cell_type": "code",
   "execution_count": null,
   "metadata": {},
   "outputs": [],
   "source": [
    "# Kilometragem e preço são relacionados?\n",
    "\n",
    "print(\"Correlação entre preço de carros e kilometragem: {}\".format(Dataset.price.corr(Dataset.odometer)))\n",
    "\n",
    "plt.scatter(Dataset.odometer,Dataset.price)\n",
    "plt.title('Preço Vs Km')\n",
    "plt.ylabel('Preço em dólar')\n",
    "plt.xlabel('Kilometragem')\n",
    "plt.show()\n",
    "\n",
    "# Correlação bem fraca e negativa"
   ]
  },
  {
   "cell_type": "code",
   "execution_count": null,
   "metadata": {},
   "outputs": [],
   "source": [
    "# Preço e condição se relacionam?\n",
    "\n",
    "PlotVariosHist(np.linspace(0,8e+4,20), 'price', 'USD', Dataset.condition, 'Condition', ['good', 'excellent', 'like new', 'fair', 'new', 'salvage'])\n"
   ]
  },
  {
   "cell_type": "markdown",
   "metadata": {},
   "source": [
    "## Conclusão -  condição\n",
    "\n",
    "No caso da condição boa nota-se uma distribuição mais homogênea de preços, exceto para valores mais altos.\n",
    "Contraintuitivamente para condições excelentes há maiores densidades de preços de valores mais baixos do que para condições boas. Entretanto, para valores no outro extremo há maiores densidades de preços no caso da condição excelente.\n",
    "Para condições novas as densidades de preço caem com o aumento dos valores de venda, mas ainda há maiores densidades para valores altos do que no caso de condições nova e excelente.\n",
    "Olhando para as condições mediana e recuperado percebe-se que apresentam comportamento bastante semelhante de valores muito mais altos de densidades para preços (muito) baixos.\n",
    "Finalmente, o comportamento dos preços da condição similar a novo assemelha-se ao da condição novo em relação à diminuição de densidade à medida que o preço aumenta. Entretanto, a condição similar a novo apresenta densidades significativamente maiores para preços médios e altos."
   ]
  },
  {
   "cell_type": "code",
   "execution_count": null,
   "metadata": {},
   "outputs": [],
   "source": [
    "# Preço e tipo de câmbio se relacionam?\n",
    "\n",
    "print(Dataset.transmission.value_counts(normalize=True))\n",
    "\n",
    "PlotVariosHist(np.linspace(0,8e+4,20), 'price', 'USD', Dataset.transmission, 'Transmission', ['automatic', 'manual', 'other'])\n",
    "\n",
    "# Percebe-se que carros automáticos e manuais tem uma distribuição relativamente parecida, diferentemente\n",
    "# dos outros tipos, que destoam do padrão de preços.\n"
   ]
  },
  {
   "cell_type": "markdown",
   "metadata": {},
   "source": [
    "## Conclusão - transmissão\n",
    "\n",
    "A distribuição de preços de carros com câmbio automático e manual é bastante semelhante, no entanto, os automáticos apresentam densidades ligeiramente maiores em valores de venda mais altos.\n",
    "No caso de outros tipos de transmissão, a distribuição de preços assemelha-se com uma distribuição normal, apresentando maiores densidades para valores medianos."
   ]
  },
  {
   "cell_type": "code",
   "execution_count": null,
   "metadata": {},
   "outputs": [],
   "source": [
    "# Preço e ano de fabricação se relacionam?\n",
    "\n",
    "print(\"A correlação entre preço e ano, nos Dataset filtrados, é: {}\".format(Dataset.price.corr(Dataset.year)))\n",
    "plt.scatter(Dataset.year,Dataset.price)\n",
    "plt.show()\n",
    "\n",
    "# Associação fraca e positiva"
   ]
  },
  {
   "cell_type": "markdown",
   "metadata": {},
   "source": [
    "## Variáveis dummy\n",
    "\n",
    "Para trabalhar com modelos de regressão com variáveis quantitativas no target e qualitativas como features deve-se tratar as últimas como variáveis dummy. Isso significa que para cada uma das colunas de variáveis qualitativas serão criadas novas colunas para cada possível valor que a variável pode assumir. Caso uma linha apresente determinado valor, ela recebe '1' em sua respectiva coluna. Caso contrário, '0'.\n",
    "\n",
    "Uma questão a ser considerada é a armadilha das variáveis dummies. Isso se refere à criação de variáveis de mais de uma coluna para valores que poderiam ser resumidos por uma só, a exemplo, 'sim' ou 'não'. Ser da categoria 'sim' implica em não ser da categoria 'não'. No caso, nossas categorias não possuem essa propriedade: ser da cor cinza não implica em ser da cor branca, uma vez que existem outras várias cores. Por isso não usamos a propriedade 'drop_first' para formar os dummies já que a perda da categoria inicial excluiria um perfil único por inteiro."
   ]
  },
  {
   "cell_type": "code",
   "execution_count": null,
   "metadata": {},
   "outputs": [],
   "source": [
    "dum = pd.get_dummies(Dataset, drop_first=False, columns=['year', 'title_status', 'condition', 'transmission', 'cylinders', 'fuel', 'type', 'paint_color', 'manufacturer', 'drive', 'size'])\n",
    "\n",
    "X = dum.iloc[:, 25:]\n",
    "\n",
    "results = sm.OLS(dum.price, X).fit()\n",
    "\n",
    "results.summary()"
   ]
  },
  {
   "cell_type": "markdown",
   "metadata": {},
   "source": [
    "## Regressão linear\n",
    "\n",
    "A regressão linear é um procedimento matemático que, dada uma série de valores, encontra a reta que melhor sintetiza o comportamento desses dados e que pode ser usada para extrapolar novos valores. O método de regressão utilizado foi o Método dos Mínimos Quadrados, que encontra a reta cuja diferença dos quadrados dos valores da série e da função é mínima.\n",
    "\n",
    "O coeficiente de determinação (também chamado de R^2) mostra quanto os valores da reta aproximam-se da realidade, sendo que quanto mais próximo de 1, mais fidedigno é o resultado.\n",
    "\n",
    "Em nosso caso, o valor desse coeficiente (R-squared) = 0.831, o que indica que é significativamente próximo à realidade."
   ]
  },
  {
   "cell_type": "code",
   "execution_count": null,
   "metadata": {},
   "outputs": [],
   "source": [
    "regressor = DecisionTreeRegressor(random_state = 0) \n",
    "regressor.fit(X, dum.price)\n",
    "score = regressor.score(X, dum.price)\n",
    "score"
   ]
  },
  {
   "cell_type": "markdown",
   "metadata": {},
   "source": [
    "## Regressão de árvore de decisão\n",
    "\n",
    "Árvores de decisão são um método que tem como objetivo criar um modelo para prever o valor de uma variável target ao aprender regras de decisão da série de dados das features. No caso da biblioteca utilizada o regeressor monta a melhor curva seno possível para aproximar uma regra no modelo if/else. Com quanto mais variáveis features (justificadas) o modelo for alimentado, maior será o número de ramificações, que aumentará a complexidade das regras e tornará o modelo mais confiável.\n",
    "\n",
    "Bem como na regressão linear, deverão ser utilizadas variáveis dummy para trabalhar quantitativamente com variáveis qualitativas."
   ]
  },
  {
   "cell_type": "code",
   "execution_count": null,
   "metadata": {},
   "outputs": [],
   "source": [
    "#ano title_status condition transmission cylinders fuel type paint_color manufacturer drive size\n",
    "\n",
    "def predictor(year, title_status, condition, transmission, cylinders, fuel, body_type, paint_color, manufacturer, drive, size):\n",
    "    \n",
    "    lista = []\n",
    "    ano_checado = False\n",
    "    status_checado = False\n",
    "    condicao_checado = False\n",
    "    transmissao_checado = False\n",
    "    cilindros_checado = False\n",
    "    combustivel_checado = False\n",
    "    tipo_checado = False\n",
    "    tinta_checado = False\n",
    "    montadora_checado = False\n",
    "    tracao_checado = False\n",
    "    tamanho_checado = False\n",
    "\n",
    "\n",
    "    \n",
    "    for ano in X.columns[:103]:\n",
    "        if year in ano:\n",
    "            lista.append(1)\n",
    "            ano_checado = True\n",
    "        else:\n",
    "            lista.append(0)\n",
    "    \n",
    "    \n",
    "    for status in X.columns[103:109]:\n",
    "        if title_status in status:\n",
    "            lista.append(1)\n",
    "            status_checado = True\n",
    "        else:\n",
    "            lista.append(0)\n",
    "    \n",
    "    for condicao in X.columns[109:115]:\n",
    "        if condition in condicao:\n",
    "            lista.append(1)\n",
    "            condicao_checado = True\n",
    "        else:\n",
    "            lista.append(0)\n",
    "            \n",
    "    for transmissao in X.columns[115:118]:\n",
    "        if transmission in transmissao:\n",
    "            lista.append(1)\n",
    "            transmissao_checado = True\n",
    "        else:\n",
    "            lista.append(0)\n",
    "            \n",
    "    for cilindros in X.columns[118:126]:\n",
    "        if cylinders in cilindros:\n",
    "            lista.append(1)\n",
    "            cilindros_checado = True\n",
    "        else:\n",
    "            lista.append(0)\n",
    "            \n",
    "    for combustivel in X.columns[126:131]:\n",
    "        if fuel in combustivel:\n",
    "            lista.append(1)\n",
    "            combustivel_checado = True\n",
    "        else:\n",
    "            lista.append(0)\n",
    "            \n",
    "    for tipo in X.columns[131:144]:\n",
    "        if body_type == 'van' and tipo == 'type_van':\n",
    "            lista.append(1)\n",
    "            tipo_checado = True\n",
    "        elif body_type in tipo:\n",
    "            lista.append(1)\n",
    "            tipo_checado = True\n",
    "        else:\n",
    "            lista.append(0)\n",
    "            \n",
    "    for tinta in X.columns[144:156]:\n",
    "        if paint_color in tinta:\n",
    "            lista.append(1)\n",
    "            tinta_checado = True\n",
    "        else:\n",
    "            lista.append(0)\n",
    "    \n",
    "    for montadora in X.columns[156:199]:\n",
    "        if manufacturer in montadora:\n",
    "            lista.append(1)\n",
    "            montadora_checado = True\n",
    "        else:\n",
    "            lista.append(0)\n",
    "    \n",
    "    for tracao in X.columns[199:201]:\n",
    "        if drive in tracao:\n",
    "            lista.append(1)\n",
    "            tracao_checado = True\n",
    "        else:\n",
    "            lista.append(0)\n",
    "    \n",
    "    for tamanho in X.columns[201:]:\n",
    "        if size == 'compact' and tamanho == 'size_compact':\n",
    "            lista.append(1)\n",
    "            tamanho_checado = True\n",
    "        elif size in tamanho:\n",
    "            lista.append(1)\n",
    "            tamanho_checado = True\n",
    "        else:\n",
    "            lista.append(0)\n",
    "    \n",
    "    print([ano_checado, status_checado, condicao_checado, transmissao_checado, cilindros_checado, combustivel_checado, tipo_checado, tinta_checado, montadora_checado, tracao_checado, tamanho_checado])\n",
    "    \n",
    "    if any([ano_checado, status_checado, condicao_checado, transmissao_checado, cilindros_checado, combustivel_checado, tipo_checado, tinta_checado, montadora_checado, tracao_checado, tamanho_checado])==False:\n",
    "        return ('input invalido')\n",
    "            \n",
    "    return regressor.predict([lista]), results.predict(lista)\n",
    "    \n"
   ]
  },
  {
   "cell_type": "code",
   "execution_count": null,
   "metadata": {},
   "outputs": [],
   "source": [
    "#print(Dataset['year'].values)\n",
    "\n",
    "#print(X.columns.to_frame())\n",
    "print(len(X.columns))\n",
    "print(X.iloc[:, 204].name)"
   ]
  },
  {
   "cell_type": "code",
   "execution_count": null,
   "metadata": {},
   "outputs": [],
   "source": [
    "teste_tree, teste_linear = predictor('2020', 'clean', 'fair', 'manual', '8', 'gas', 'sedan', 'black', 'volkswagen', 'fwd', 'compact')\n",
    "\n",
    "print(teste_tree, teste_linear)"
   ]
  },
  {
   "cell_type": "code",
   "execution_count": null,
   "metadata": {},
   "outputs": [],
   "source": [
    "# Validação cruzada\n",
    "\n",
    "for linha in Dataset.sample(10).values:\n",
    "    preco = linha.price\n",
    "    filtrado = linha.iloc[:,25:]\n",
    "    reg_tree = regressor.predict([filtrado])\n",
    "    reg_linear = results.predict(filtrado)\n",
    "    print(f'Preço real: {preco}. Preço calculado pela regressão linear: {reg_linear}. Preço calculado pela regressão de árvore de decisão: {reg_tree}.')\n",
    "    \n",
    "    "
   ]
  },
  {
   "cell_type": "code",
   "execution_count": null,
   "metadata": {},
   "outputs": [],
   "source": []
  }
 ],
 "metadata": {
  "interpreter": {
   "hash": "8f82abf25dd2b95dfdd73390d680c14a15c8c483ac94e4c47b430b35950f6111"
  },
  "kernelspec": {
   "display_name": "Python 3 (ipykernel)",
   "language": "python",
   "name": "python3"
  },
  "language_info": {
   "codemirror_mode": {
    "name": "ipython",
    "version": 3
   },
   "file_extension": ".py",
   "mimetype": "text/x-python",
   "name": "python",
   "nbconvert_exporter": "python",
   "pygments_lexer": "ipython3",
   "version": "3.8.5"
  }
 },
 "nbformat": 4,
 "nbformat_minor": 2
}
